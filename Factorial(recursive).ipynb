{
 "cells": [
  {
   "cell_type": "markdown",
   "metadata": {},
   "source": [
    "Definition: \n",
    "n! = n x (n-1)! <br>\n",
    "<br>\n",
    "Example)<br>\n",
    "3! = 3 x 2! = 3 x 2 x 1! = 3 x 2 x 1 x 0!<br>\n",
    "\n",
    "Note:\n",
    "- 0! = 1 <br>\n",
    "- any negative factorial of negative interger is *undefined*. \n",
    "\n",
    "Hence:<br>\n",
    "\n",
    "if n = 0, then return 1<br>\n",
    "while n > 0, \n"
   ]
  },
  {
   "cell_type": "code",
   "execution_count": 9,
   "metadata": {},
   "outputs": [],
   "source": [
    "def myfactorial(n):\n",
    "        if n == 0:\n",
    "            return 1\n",
    "        else:\n",
    "            return n*myfactorial(n-1)"
   ]
  },
  {
   "cell_type": "code",
   "execution_count": 10,
   "metadata": {},
   "outputs": [
    {
     "name": "stdout",
     "output_type": "stream",
     "text": [
      "Factorial of 5 is 120\n"
     ]
    }
   ],
   "source": [
    "n = 5\n",
    "result = myfactorial(n)\n",
    "print(\"Factorial of {} is {}\".format(n,result))"
   ]
  }
 ],
 "metadata": {
  "kernelspec": {
   "display_name": "Python 3",
   "language": "python",
   "name": "python3"
  },
  "language_info": {
   "codemirror_mode": {
    "name": "ipython",
    "version": 3
   },
   "file_extension": ".py",
   "mimetype": "text/x-python",
   "name": "python",
   "nbconvert_exporter": "python",
   "pygments_lexer": "ipython3",
   "version": "3.6.3"
  }
 },
 "nbformat": 4,
 "nbformat_minor": 2
}
